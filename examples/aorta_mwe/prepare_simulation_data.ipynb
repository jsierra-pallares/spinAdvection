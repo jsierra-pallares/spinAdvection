{
 "cells": [
  {
   "cell_type": "code",
   "execution_count": 10,
   "metadata": {},
   "outputs": [],
   "source": [
    "import pyvista as pv\n",
    "import numpy as np\n",
    "import glob\n",
    "import vtk\n",
    "import os\n",
    "import requests"
   ]
  },
  {
   "cell_type": "markdown",
   "metadata": {},
   "source": [
    "## Auxiliary functions"
   ]
  },
  {
   "cell_type": "code",
   "execution_count": null,
   "metadata": {},
   "outputs": [],
   "source": [
    "ZENODO_BASE_URL = \"https://zenodo.org/record/16995252/files/\" \n",
    "AORTA_VTU_FILES = [\"aorta_0.vtu\", \"aorta_1.vtu\", \"aorta_2.vtu\", \"aorta_3.vtu\"]"
   ]
  },
  {
   "cell_type": "code",
   "execution_count": 13,
   "metadata": {},
   "outputs": [],
   "source": [
    "def download_file(file_name, folder_path='.'):\n",
    "    url = ZENODO_BASE_URL + file_name\n",
    "    local_path = os.path.join(folder_path, file_name)\n",
    "    \n",
    "    r = requests.get(url, stream=True)\n",
    "    if r.status_code != 200:\n",
    "        print(f\"ERROR: could not download {file_name} (status {r.status_code})\")\n",
    "        return False\n",
    "    \n",
    "    with open(local_path, 'wb') as f:\n",
    "        for chunk in r.iter_content(chunk_size=8192):\n",
    "            if chunk:\n",
    "                f.write(chunk)\n",
    "    print(f\"{file_name} downloaded successfully.\")\n",
    "    return True\n",
    "\n",
    "def create_VTKlegacy_files(folder_path, list_of_files, extension='.vtu', expected_files=None):\n",
    "    \"\"\"\n",
    "    For each file in AORTA_VTU_FILES, check if it exists in folder_path (e.g., 'VTK/').\n",
    "    If not, download it from Zenodo. Then convert to VTK legacy format and write a list of output files and their time values.\n",
    "    \"\"\"\n",
    "\n",
    "    vtu_files = []\n",
    "    for fname in AORTA_VTU_FILES:\n",
    "        file_path = os.path.join(folder_path, fname)\n",
    "        if not os.path.exists(file_path):\n",
    "            print(f\"{file_path} not found locally. Attempting to download from Zenodo...\")\n",
    "            success = download_file(fname, folder_path)\n",
    "            if not success:\n",
    "                print(f\"Skipping {file_path} (could not download).\")\n",
    "                continue\n",
    "            if not os.path.exists(file_path):\n",
    "                print(f\"Downloaded file {file_path} still not found. Skipping.\")\n",
    "                continue\n",
    "        vtu_files.append(file_path)\n",
    "\n",
    "    if not vtu_files:\n",
    "        print(f\"No VTU files found in {folder_path} and could not download any from Zenodo.\")\n",
    "        return\n",
    "\n",
    "    with open(list_of_files, 'w') as file:\n",
    "        for file_ in vtu_files:\n",
    "            try:\n",
    "                mesh = pv.read(file_)\n",
    "            except Exception as e:\n",
    "                print(f\"Failed to read {file_}: {e}\")\n",
    "                continue\n",
    "\n",
    "            base_name = os.path.splitext(os.path.basename(file_))[0]\n",
    "            file_name = base_name + '.vtk'\n",
    "\n",
    "            # Save the VTK legacy file\n",
    "            writer = vtk.vtkDataSetWriter()\n",
    "            writer.SetFileTypeToASCII()\n",
    "            writer.SetInputData(mesh)\n",
    "            writer.SetFileName(file_name)\n",
    "            writer.SetFileVersion(42)\n",
    "            writer.SetWriteArrayMetaData(False)\n",
    "            writer.Write()\n",
    "            print(mesh['TimeValue'][0], file_name)\n",
    "\n",
    "            file.write(f'{file_name}\\t{mesh[\"TimeValue\"][0]}\\n')\n",
    "\n",
    "def sort_txt_file(file_path):\n",
    "  # Read the contents of the file\n",
    "  with open(file_path, 'r') as file:\n",
    "    lines = file.readlines()\n",
    "\n",
    "  # Sort the lines based on the second column\n",
    "  sorted_lines = sorted(lines, key=lambda line: float(line.split()[1]))\n",
    "\n",
    "  # Write the sorted lines back to the file\n",
    "  with open(file_path, 'w') as file:\n",
    "    file.writelines(sorted_lines)\n",
    "\n",
    "def create_seed_file(points, seedfile):\n",
    "  with open(seedfile, 'w') as file:\n",
    "    for i, point in enumerate(points):\n",
    "      file.write(f'{point[0]} {point[1]} {point[2]}\\n')\n",
    "      \n",
    "def sample_points_inside_mesh(mesh, n_points, threshold=1e-3):\n",
    "    xmin, xmax, ymin, ymax, zmin, zmax = mesh.bounds\n",
    "    points_inside = []\n",
    "    # Keep sampling until you have enough points inside\n",
    "    while len(points_inside) < n_points:\n",
    "        n_sample = max(n_points - len(points_inside), n_points // 2)\n",
    "        points = np.column_stack([\n",
    "            np.random.uniform(xmin, xmax, n_sample),\n",
    "            np.random.uniform(ymin, ymax, n_sample),\n",
    "            np.random.uniform(zmin, zmax, n_sample)\n",
    "        ])\n",
    "        enclosed = pv.PolyData(points).select_enclosed_points(mesh, tolerance=0.0)\n",
    "        mask = enclosed['SelectedPoints'] == 1\n",
    "        filtered_points = enclosed.points[mask]\n",
    "        distances = pv.PolyData(filtered_points).compute_implicit_distance(mesh)\n",
    "        mask = np.abs(distances['implicit_distance']) > threshold\n",
    "        selected_points = filtered_points[mask]\n",
    "        points_inside.extend(selected_points.tolist())\n",
    "        print(f'Sampled {len(points_inside)} / {n_points} points inside the mesh...')\n",
    "    return np.array(points_inside[:n_points]), distances"
   ]
  },
  {
   "cell_type": "markdown",
   "metadata": {},
   "source": [
    "## Prepare geometry to work with VTK-m"
   ]
  },
  {
   "cell_type": "code",
   "execution_count": 14,
   "metadata": {},
   "outputs": [
    {
     "name": "stdout",
     "output_type": "stream",
     "text": [
      "./VTK/aorta_3.vtu not found locally. Attempting to download from Zenodo...\n",
      "aorta_3.vtu downloaded successfully.\n",
      "9.01 aorta_0.vtk\n",
      "9.02 aorta_1.vtk\n",
      "9.03 aorta_2.vtk\n",
      "9.04 aorta_3.vtk\n"
     ]
    }
   ],
   "source": [
    "# The function create_VTKlegacy_files converts all VTU files in a given folder to VTK legacy format.\n",
    "# It searches for files with the '.vtu' extension in the specified folder and its subfolders.\n",
    "# For each VTU file found, it reads the mesh, writes it as a VTK legacy file (ASCII format), and saves a list of files in txt format.\n",
    "# The output file is named 'flowmap_<suffix>.vtk', where <suffix> is derived from the original filename.\n",
    "# It also records the mapping between the new VTK filename and the mesh's 'TimeValue' attribute in a text file (list_of_files.txt).\n",
    "# The function returns 0 after processing all files.\n",
    "create_VTKlegacy_files('./VTK', 'list_of_files.txt', extension='.vtu')"
   ]
  },
  {
   "cell_type": "markdown",
   "metadata": {},
   "source": [
    "### Sort list of files"
   ]
  },
  {
   "cell_type": "code",
   "execution_count": 9,
   "metadata": {},
   "outputs": [],
   "source": [
    "# The function sort_txt_file reads a text file, sorts its lines based on the second column (converted to float), \n",
    "# and writes the sorted lines back to the file. This is useful for organizing files by a numerical value, \n",
    "# such as time or other scalar attributes.\n",
    "sort_txt_file('./list_of_files.txt')"
   ]
  },
  {
   "cell_type": "markdown",
   "metadata": {},
   "source": [
    "It is possible to work with both .vtk and image files (.vts). To convert vtk to image files,  "
   ]
  },
  {
   "cell_type": "code",
   "execution_count": 6,
   "metadata": {},
   "outputs": [
    {
     "name": "stdout",
     "output_type": "stream",
     "text": [
      "0 aorta_1.vtk aorta_1.vts\n",
      "1 aorta_2.vtk aorta_2.vts\n",
      "2 aorta_3.vtk aorta_3.vts\n",
      "3 aorta_0.vtk aorta_0.vts\n"
     ]
    }
   ],
   "source": [
    "# Define the folder path\n",
    "folder_path = \"./\"\n",
    "destination_path = './'\n",
    "\n",
    "# Get a list of all VTK files in the folder\n",
    "_files = [file for file in os.listdir(folder_path) if file.endswith(\".vtk\")]\n",
    "\n",
    "# Loop over each VTK file\n",
    "for i, _file in enumerate(_files):\n",
    "  # Load the file\n",
    "  mesh = pv.read(os.path.join(folder_path, _file))\n",
    "\n",
    "  Coords_0  = mesh.points\n",
    "  scaling=1\n",
    "  image_box = [scaling*(np.max(Coords_0[:,0])-np.min(Coords_0[:,0])),\\\n",
    "          scaling*(np.max(Coords_0[:,1])-np.min(Coords_0[:,1])),\\\n",
    "          scaling*(np.max(Coords_0[:,2])-np.min(Coords_0[:,2]))]\n",
    "\n",
    "  offset = 0\n",
    "  orig_image =[np.min(Coords_0,axis=0)[0]+offset,\\\n",
    "          np.min(Coords_0,axis=0)[1]+offset,\\\n",
    "          np.min(Coords_0,axis=0)[2]+offset]\n",
    "\n",
    "  edge_size = .5e-3\n",
    "  image_sizex=edge_size\n",
    "  image_sizey=edge_size\n",
    "  image_sizez=edge_size\n",
    "\n",
    "  nx = int(image_box[0]/image_sizex)\n",
    "  ny = int(image_box[1]/image_sizey)\n",
    "  nz = int(image_box[2]/image_sizez)\n",
    "\n",
    "  res_x = image_box[0]/nx\n",
    "  res_y = image_box[1]/ny\n",
    "  res_z = image_box[2]/nz\n",
    "\n",
    "  dims=(nx, ny, nz)\n",
    "  spa=(res_x,res_y,res_z)\n",
    "  orig=(orig_image[0],orig_image[1],orig_image[2])\n",
    "  image = pv.ImageData(dimensions=dims,spacing=spa,origin=orig)\n",
    "\n",
    "  mesh=mesh.cell_data_to_point_data()\n",
    "  probed_image=image.sample(mesh, mark_blank=False)\n",
    "  array_data=probed_image.point_data\n",
    "  #probed_image.clear_arrays()\n",
    "  probed_image['U']=array_data['U']\n",
    "  probed_image=probed_image.point_data_to_cell_data()\n",
    "  mesh = probed_image\n",
    "\n",
    "  # Save the VTK legacy file\n",
    "  writer = vtk.vtkDataSetWriter()\n",
    "  writer.SetFileTypeToASCII()\n",
    "  writer.SetInputData(mesh)\n",
    "  # Set the output file name with .vts extension\n",
    "  output_file = _file.rsplit('.vtk')[0]+'.vts'\n",
    "  writer.SetFileName(folder_path + '/' + output_file)\n",
    "  print(i, _file,  output_file)\n",
    "  writer.SetFileVersion(42)\n",
    "  writer.SetWriteArrayMetaData(0)\n",
    "  writer.Write()"
   ]
  },
  {
   "cell_type": "markdown",
   "metadata": {},
   "source": [
    "Now it is possible to run the computation using this image files instead of VTK files (faster, but probably less accurate). To do so, it is neccesary to change the extension of the files in 'list_of_files.txt'"
   ]
  },
  {
   "cell_type": "code",
   "execution_count": 21,
   "metadata": {},
   "outputs": [],
   "source": [
    "with open('list_of_files.txt', 'r') as file:\n",
    "    lines = file.readlines()\n",
    "\n",
    "with open('list_of_vts_files.txt', 'w') as file:\n",
    "    for line in lines:\n",
    "        file.write(line.replace('.vtk', '.vts'))"
   ]
  },
  {
   "cell_type": "markdown",
   "metadata": {},
   "source": [
    "and change accordingly the advection_settings.json file"
   ]
  },
  {
   "cell_type": "markdown",
   "metadata": {},
   "source": [
    "## Generate random internal seeds"
   ]
  },
  {
   "cell_type": "code",
   "execution_count": 7,
   "metadata": {},
   "outputs": [],
   "source": [
    "fov_mesh = pv.read('./fov.vtu')\n",
    "surface = fov_mesh.extract_surface()"
   ]
  },
  {
   "cell_type": "code",
   "execution_count": 8,
   "metadata": {},
   "outputs": [
    {
     "data": {
      "text/html": [
       "<table style='width: 100%;'><tr><th>Header</th><th>Data Arrays</th></tr><tr><td>\n",
       "<table style='width: 100%;'>\n",
       "<tr><th>PolyData</th><th>Information</th></tr>\n",
       "<tr><td>N Cells</td><td>177586</td></tr>\n",
       "<tr><td>N Points</td><td>88795</td></tr>\n",
       "<tr><td>N Strips</td><td>0</td></tr>\n",
       "<tr><td>X Bounds</td><td>-8.381e-02, -4.283e-02</td></tr>\n",
       "<tr><td>Y Bounds</td><td>-2.869e-02, 6.421e-02</td></tr>\n",
       "<tr><td>Z Bounds</td><td>-7.500e-02, -5.000e-03</td></tr>\n",
       "<tr><td>N Arrays</td><td>11</td></tr>\n",
       "</table>\n",
       "\n",
       "</td><td>\n",
       "<table style='width: 100%;'>\n",
       "<tr><th>Name</th><th>Field</th><th>Type</th><th>N Comp</th><th>Min</th><th>Max</th></tr>\n",
       "<tr><td>m1</td><td>Points</td><td>float32</td><td>1</td><td>4.622e-01</td><td>6.805e+00</td></tr>\n",
       "<tr><td>m2</td><td>Points</td><td>float32</td><td>1</td><td>1.947e-01</td><td>4.982e+01</td></tr>\n",
       "<tr><td>p</td><td>Points</td><td>float32</td><td>1</td><td>5.881e-03</td><td>2.353e-02</td></tr>\n",
       "<tr><td>U</td><td>Points</td><td>float32</td><td>3</td><td>-3.134e-02</td><td>5.824e-02</td></tr>\n",
       "<tr><td>vtkOriginalPointIds</td><td>Points</td><td>int64</td><td>1</td><td>0.000e+00</td><td>7.463e+05</td></tr>\n",
       "<tr><td>m1</td><td>Cells</td><td>float32</td><td>1</td><td>4.499e-01</td><td>6.836e+00</td></tr>\n",
       "<tr><td>m2</td><td>Cells</td><td>float32</td><td>1</td><td>1.738e-01</td><td>5.010e+01</td></tr>\n",
       "<tr><td>p</td><td>Cells</td><td>float32</td><td>1</td><td>5.629e-03</td><td>2.361e-02</td></tr>\n",
       "<tr><td>U</td><td>Cells</td><td>float32</td><td>3</td><td>-3.158e-02</td><td>5.844e-02</td></tr>\n",
       "<tr><td>vtkOriginalCellIds</td><td>Cells</td><td>int64</td><td>1</td><td>0.000e+00</td><td>4.162e+06</td></tr>\n",
       "<tr><td>TimeValue</td><td>Fields</td><td>float32</td><td>1</td><td>1.000e+01</td><td>1.000e+01</td></tr>\n",
       "</table>\n",
       "\n",
       "</td></tr> </table>"
      ],
      "text/plain": [
       "PolyData (0x7fb40692a560)\n",
       "  N Cells:    177586\n",
       "  N Points:   88795\n",
       "  N Strips:   0\n",
       "  X Bounds:   -8.381e-02, -4.283e-02\n",
       "  Y Bounds:   -2.869e-02, 6.421e-02\n",
       "  Z Bounds:   -7.500e-02, -5.000e-03\n",
       "  N Arrays:   11"
      ]
     },
     "execution_count": 8,
     "metadata": {},
     "output_type": "execute_result"
    }
   ],
   "source": [
    "surface"
   ]
  },
  {
   "cell_type": "code",
   "execution_count": 9,
   "metadata": {},
   "outputs": [
    {
     "name": "stdout",
     "output_type": "stream",
     "text": [
      "Sampled 2226 / 10000 points inside the mesh...\n",
      "Sampled 3917 / 10000 points inside the mesh...\n",
      "Sampled 5255 / 10000 points inside the mesh...\n",
      "Sampled 6314 / 10000 points inside the mesh...\n",
      "Sampled 7451 / 10000 points inside the mesh...\n",
      "Sampled 8489 / 10000 points inside the mesh...\n",
      "Sampled 9594 / 10000 points inside the mesh...\n",
      "Sampled 10695 / 10000 points inside the mesh...\n"
     ]
    }
   ],
   "source": [
    "# Create random number of seeds within the peeled surface\n",
    "num_seeds = 10000\n",
    "\n",
    "points, _ = sample_points_inside_mesh(surface, num_seeds, threshold=0.5e-3)\n"
   ]
  },
  {
   "cell_type": "code",
   "execution_count": 10,
   "metadata": {},
   "outputs": [],
   "source": [
    "pv.PolyData(points).save('internal_seeds.vtp')"
   ]
  },
  {
   "cell_type": "code",
   "execution_count": 11,
   "metadata": {},
   "outputs": [],
   "source": [
    "create_seed_file(points, 'internal_seeds.txt')"
   ]
  },
  {
   "cell_type": "markdown",
   "metadata": {},
   "source": [
    "## Generate seeds for reseeding at entrance"
   ]
  },
  {
   "cell_type": "code",
   "execution_count": 12,
   "metadata": {},
   "outputs": [],
   "source": [
    "inflow_mesh = pv.read('./inflow.vtu')\n",
    "inflow_surface = inflow_mesh.extract_surface()"
   ]
  },
  {
   "cell_type": "code",
   "execution_count": 13,
   "metadata": {},
   "outputs": [
    {
     "name": "stdout",
     "output_type": "stream",
     "text": [
      "Sampled 785 / 1000 points inside the mesh...\n",
      "Sampled 1179 / 1000 points inside the mesh...\n"
     ]
    }
   ],
   "source": [
    "num_seeds = 1000\n",
    "\n",
    "points, _ = sample_points_inside_mesh(inflow_surface, num_seeds, threshold=0.005e-3)\n"
   ]
  },
  {
   "cell_type": "code",
   "execution_count": 14,
   "metadata": {},
   "outputs": [],
   "source": [
    "pv.PolyData(points).save('inflow_seeds.vtp')"
   ]
  },
  {
   "cell_type": "code",
   "execution_count": 15,
   "metadata": {},
   "outputs": [],
   "source": [
    "create_seed_file(points, 'entrance_seeds.txt')"
   ]
  }
 ],
 "metadata": {
  "kernelspec": {
   "display_name": "base",
   "language": "python",
   "name": "python3"
  },
  "language_info": {
   "codemirror_mode": {
    "name": "ipython",
    "version": 3
   },
   "file_extension": ".py",
   "mimetype": "text/x-python",
   "name": "python",
   "nbconvert_exporter": "python",
   "pygments_lexer": "ipython3",
   "version": "3.12.2"
  }
 },
 "nbformat": 4,
 "nbformat_minor": 2
}
