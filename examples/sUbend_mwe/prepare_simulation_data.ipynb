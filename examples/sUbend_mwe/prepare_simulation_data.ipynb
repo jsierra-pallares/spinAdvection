{
 "cells": [
  {
   "cell_type": "code",
   "execution_count": 17,
   "metadata": {},
   "outputs": [],
   "source": [
    "import pyvista as pv\n",
    "import numpy as np\n",
    "import glob\n",
    "import vtk\n",
    "import os\n",
    "import requests"
   ]
  },
  {
   "cell_type": "markdown",
   "metadata": {},
   "source": [
    "## Auxiliary functions"
   ]
  },
  {
   "cell_type": "code",
   "execution_count": 31,
   "metadata": {},
   "outputs": [],
   "source": [
    "ZENODO_BASE_URL = \"https://zenodo.org/record/16995252/files/\" \n",
    "SUBEND_VTU_FILE = \"sUbend_modified.vtu\""
   ]
  },
  {
   "cell_type": "code",
   "execution_count": 34,
   "metadata": {},
   "outputs": [],
   "source": [
    "def download_file(file_name, folder_path='.'):\n",
    "    url = ZENODO_BASE_URL + file_name\n",
    "    local_path = os.path.join(folder_path, file_name)\n",
    "    \n",
    "    r = requests.get(url, stream=True)\n",
    "    if r.status_code != 200:\n",
    "        print(f\"ERROR: could not download {file_name} (status {r.status_code})\")\n",
    "        return False\n",
    "    \n",
    "    with open(local_path, 'wb') as f:\n",
    "        for chunk in r.iter_content(chunk_size=8192):\n",
    "            if chunk:\n",
    "                f.write(chunk)\n",
    "    print(f\"{file_name} downloaded successfully.\")\n",
    "    return True\n",
    "\n",
    "def create_VTKlegacy_files(folder_path, extension='.vtu'):\n",
    "    \"\"\"\n",
    "    Check if SUBEND_VTU_FILE exists in folder_path (should be 'VTK/').\n",
    "    If not, download it from Zenodo to folder_path.\n",
    "    Then convert to VTK legacy format and save the .vtk file one level above folder_path.\n",
    "    \"\"\"\n",
    "    # The VTU file should be in folder_path (e.g., './VTK')\n",
    "    vtu_file_path = os.path.join(folder_path, SUBEND_VTU_FILE)\n",
    "    if not os.path.exists(vtu_file_path):\n",
    "        print(f\"{vtu_file_path} not found locally. Attempting to download from Zenodo...\")\n",
    "        success = download_file(SUBEND_VTU_FILE, folder_path)\n",
    "        if not success:\n",
    "            print(f\"Skipping {vtu_file_path} (could not download).\")\n",
    "            return\n",
    "        if not os.path.exists(vtu_file_path):\n",
    "            print(f\"Downloaded file {vtu_file_path} still not found. Skipping.\")\n",
    "            return\n",
    "\n",
    "    try:\n",
    "        mesh = pv.read(vtu_file_path)\n",
    "    except Exception as e:\n",
    "        print(f\"Failed to read {vtu_file_path}: {e}\")\n",
    "        return\n",
    "\n",
    "    base_name = os.path.splitext(os.path.basename(vtu_file_path))[0]\n",
    "    # Save the .vtk file one level above folder_path\n",
    "    parent_dir = os.path.abspath(os.path.join(folder_path, os.pardir))\n",
    "    vtk_file_name = os.path.join(parent_dir, base_name + '.vtk')\n",
    "\n",
    "    # Save the VTK legacy file\n",
    "    writer = vtk.vtkDataSetWriter()\n",
    "    writer.SetFileTypeToASCII()\n",
    "    writer.SetInputData(mesh)\n",
    "    writer.SetFileName(vtk_file_name)\n",
    "    writer.Write()\n",
    "    print(vtk_file_name)\n",
    "\n",
    "def create_seed_file(points, seedfile):\n",
    "  with open(seedfile, 'w') as file:\n",
    "    for i, point in enumerate(points):\n",
    "      file.write(f'{point[0]} {point[1]} {point[2]}\\n')\n",
    "      \n",
    "def sample_points_inside_mesh(mesh, n_points, threshold=1e-3):\n",
    "    xmin, xmax, ymin, ymax, zmin, zmax = mesh.bounds\n",
    "    points_inside = []\n",
    "    # Keep sampling until you have enough points inside\n",
    "    while len(points_inside) < n_points:\n",
    "        n_sample = max(n_points - len(points_inside), n_points // 2)\n",
    "        points = np.column_stack([\n",
    "            np.random.uniform(xmin, xmax, n_sample),\n",
    "            np.random.uniform(ymin, ymax, n_sample),\n",
    "            np.random.uniform(zmin, zmax, n_sample)\n",
    "        ])\n",
    "        enclosed = pv.PolyData(points).select_enclosed_points(mesh, tolerance=0.0)\n",
    "        mask = enclosed['SelectedPoints'] == 1\n",
    "        filtered_points = enclosed.points[mask]\n",
    "        distances = pv.PolyData(filtered_points).compute_implicit_distance(mesh)\n",
    "        mask = np.abs(distances['implicit_distance']) > threshold\n",
    "        selected_points = filtered_points[mask]\n",
    "        points_inside.extend(selected_points.tolist())\n",
    "        print(f'Sampled {len(points_inside)} / {n_points} points inside the mesh...')\n",
    "    return np.array(points_inside[:n_points]), distances"
   ]
  },
  {
   "cell_type": "markdown",
   "metadata": {},
   "source": [
    "## Prepare geometry to work with VTK-m"
   ]
  },
  {
   "cell_type": "code",
   "execution_count": 36,
   "metadata": {},
   "outputs": [
    {
     "name": "stdout",
     "output_type": "stream",
     "text": [
      "./VTK/sUbend_modified.vtu not found locally. Attempting to download from Zenodo...\n",
      "sUbend_modified.vtu downloaded successfully.\n",
      "/home/pablov/spinAdvection/examples/sUbend_mwe/sUbend_modified.vtk\n"
     ]
    }
   ],
   "source": [
    "# The function create_VTKlegacy_files converts all VTU files in a given folder to VTK legacy format.\n",
    "# It searches for files with the '.vtu' extension in the specified folder and its subfolders.\n",
    "# For each VTU file found, it reads the mesh, writes it as a VTK legacy file (ASCII format), and saves a list of files in txt format.\n",
    "# The output file is named 'flowmap_<suffix>.vtk', where <suffix> is derived from the original filename.\n",
    "# It also records the mapping between the new VTK filename and the mesh's 'TimeValue' attribute in a text file (list_of_files.txt).\n",
    "# The function returns 0 after processing all files.\n",
    "create_VTKlegacy_files('./VTK', extension='.vtu')"
   ]
  },
  {
   "cell_type": "markdown",
   "metadata": {},
   "source": [
    "It is possible to work with both .vtk and image files (.vts). To convert vtk to image files,  "
   ]
  },
  {
   "cell_type": "code",
   "execution_count": 21,
   "metadata": {},
   "outputs": [],
   "source": [
    "# Define the folder path\n",
    "folder_path = \"./\"\n",
    "destination_path = './'\n",
    "\n",
    "# Get a list of all VTK files in the folder\n",
    "_files = [file for file in os.listdir(folder_path) if file.endswith(\".vtk\")]\n",
    "\n",
    "# Loop over each VTK file\n",
    "for i, _file in enumerate(_files):\n",
    "  # Load the file\n",
    "  mesh = pv.read(os.path.join(folder_path, _file))\n",
    "\n",
    "  Coords_0  = mesh.points\n",
    "  scaling=1\n",
    "  image_box = [scaling*(np.max(Coords_0[:,0])-np.min(Coords_0[:,0])),\\\n",
    "          scaling*(np.max(Coords_0[:,1])-np.min(Coords_0[:,1])),\\\n",
    "          scaling*(np.max(Coords_0[:,2])-np.min(Coords_0[:,2]))]\n",
    "\n",
    "  offset = 0\n",
    "  orig_image =[np.min(Coords_0,axis=0)[0]+offset,\\\n",
    "          np.min(Coords_0,axis=0)[1]+offset,\\\n",
    "          np.min(Coords_0,axis=0)[2]+offset]\n",
    "\n",
    "  edge_size = .5e-3\n",
    "  image_sizex=edge_size\n",
    "  image_sizey=edge_size\n",
    "  image_sizez=edge_size\n",
    "\n",
    "  nx = int(image_box[0]/image_sizex)\n",
    "  ny = int(image_box[1]/image_sizey)\n",
    "  nz = int(image_box[2]/image_sizez)\n",
    "\n",
    "  res_x = image_box[0]/nx\n",
    "  res_y = image_box[1]/ny\n",
    "  res_z = image_box[2]/nz\n",
    "\n",
    "  dims=(nx, ny, nz)\n",
    "  spa=(res_x,res_y,res_z)\n",
    "  orig=(orig_image[0],orig_image[1],orig_image[2])\n",
    "  image = pv.ImageData(dimensions=dims,spacing=spa,origin=orig)\n",
    "\n",
    "  mesh=mesh.cell_data_to_point_data()\n",
    "  probed_image=image.sample(mesh, mark_blank=False)\n",
    "  array_data=probed_image.point_data\n",
    "  #probed_image.clear_arrays()\n",
    "  probed_image['U']=array_data['U']\n",
    "  probed_image=probed_image.point_data_to_cell_data()\n",
    "  mesh = probed_image\n",
    "\n",
    "  # Save the VTK legacy file\n",
    "  writer = vtk.vtkDataSetWriter()\n",
    "  writer.SetFileTypeToASCII()\n",
    "  writer.SetInputData(mesh)\n",
    "  # Set the output file name with .vts extension\n",
    "  output_file = _file.rsplit('.vtk')[0]+'.vts'\n",
    "  writer.SetFileName(folder_path + '/' + output_file)\n",
    "  print(i, _file,  output_file)\n",
    "  writer.SetFileVersion(42)\n",
    "  writer.SetWriteArrayMetaData(0)\n",
    "  writer.Write()"
   ]
  },
  {
   "cell_type": "markdown",
   "metadata": {},
   "source": [
    "Now it is possible to run the computation using this image files instead of VTK files (faster, but probably less accurate). To do so, it is neccesary to change the file in advection_settings.json"
   ]
  },
  {
   "cell_type": "markdown",
   "metadata": {},
   "source": [
    "## Generate random internal seeds"
   ]
  },
  {
   "cell_type": "code",
   "execution_count": 22,
   "metadata": {},
   "outputs": [],
   "source": [
    "fov_mesh = pv.read('./fov.vtu')\n",
    "surface = fov_mesh.extract_surface()"
   ]
  },
  {
   "cell_type": "code",
   "execution_count": 23,
   "metadata": {},
   "outputs": [
    {
     "data": {
      "text/html": [
       "<table style='width: 100%;'><tr><th>Header</th><th>Data Arrays</th></tr><tr><td>\n",
       "<table style='width: 100%;'>\n",
       "<tr><th>PolyData</th><th>Information</th></tr>\n",
       "<tr><td>N Cells</td><td>49080</td></tr>\n",
       "<tr><td>N Points</td><td>49082</td></tr>\n",
       "<tr><td>N Strips</td><td>0</td></tr>\n",
       "<tr><td>X Bounds</td><td>2.183e-03, 1.414e-01</td></tr>\n",
       "<tr><td>Y Bounds</td><td>-1.031e-01, 1.603e-02</td></tr>\n",
       "<tr><td>Z Bounds</td><td>-1.603e-02, 1.602e-02</td></tr>\n",
       "<tr><td>N Arrays</td><td>2</td></tr>\n",
       "</table>\n",
       "\n",
       "</td><td>\n",
       "<table style='width: 100%;'>\n",
       "<tr><th>Name</th><th>Field</th><th>Type</th><th>N Comp</th><th>Min</th><th>Max</th></tr>\n",
       "<tr><td>vtkOriginalPointIds</td><td>Points</td><td>int64</td><td>1</td><td>0.000e+00</td><td>9.955e+05</td></tr>\n",
       "<tr><td>vtkOriginalCellIds</td><td>Cells</td><td>int64</td><td>1</td><td>0.000e+00</td><td>9.706e+05</td></tr>\n",
       "</table>\n",
       "\n",
       "</td></tr> </table>"
      ],
      "text/plain": [
       "PolyData (0x7fd496d6f3a0)\n",
       "  N Cells:    49080\n",
       "  N Points:   49082\n",
       "  N Strips:   0\n",
       "  X Bounds:   2.183e-03, 1.414e-01\n",
       "  Y Bounds:   -1.031e-01, 1.603e-02\n",
       "  Z Bounds:   -1.603e-02, 1.602e-02\n",
       "  N Arrays:   2"
      ]
     },
     "execution_count": 23,
     "metadata": {},
     "output_type": "execute_result"
    }
   ],
   "source": [
    "surface"
   ]
  },
  {
   "cell_type": "code",
   "execution_count": 24,
   "metadata": {},
   "outputs": [
    {
     "name": "stdout",
     "output_type": "stream",
     "text": [
      "Sampled 3795 / 10000 points inside the mesh...\n",
      "Sampled 6201 / 10000 points inside the mesh...\n",
      "Sampled 8120 / 10000 points inside the mesh...\n",
      "Sampled 10027 / 10000 points inside the mesh...\n"
     ]
    }
   ],
   "source": [
    "# Create random number of seeds within the peeled surface\n",
    "num_seeds = 10000\n",
    "\n",
    "points, _ = sample_points_inside_mesh(surface, num_seeds, threshold=0.5e-3)\n"
   ]
  },
  {
   "cell_type": "code",
   "execution_count": 25,
   "metadata": {},
   "outputs": [],
   "source": [
    "pv.PolyData(points).save('internal_seeds.vtp')"
   ]
  },
  {
   "cell_type": "code",
   "execution_count": 26,
   "metadata": {},
   "outputs": [],
   "source": [
    "create_seed_file(points, 'internal_seeds.txt')"
   ]
  },
  {
   "cell_type": "markdown",
   "metadata": {},
   "source": [
    "## Generate seeds for reseeding at entrance"
   ]
  },
  {
   "cell_type": "code",
   "execution_count": 27,
   "metadata": {},
   "outputs": [],
   "source": [
    "inflow_mesh = pv.read('./inflow.vtu')\n",
    "inflow_surface = inflow_mesh.extract_surface()"
   ]
  },
  {
   "cell_type": "code",
   "execution_count": 28,
   "metadata": {},
   "outputs": [
    {
     "name": "stdout",
     "output_type": "stream",
     "text": [
      "Sampled 786 / 1000 points inside the mesh...\n",
      "Sampled 1191 / 1000 points inside the mesh...\n"
     ]
    }
   ],
   "source": [
    "num_seeds = 1000\n",
    "\n",
    "points, _ = sample_points_inside_mesh(inflow_surface, num_seeds, threshold=0.005e-3)\n"
   ]
  },
  {
   "cell_type": "code",
   "execution_count": 29,
   "metadata": {},
   "outputs": [],
   "source": [
    "pv.PolyData(points).save('inflow_seeds.vtp')"
   ]
  },
  {
   "cell_type": "code",
   "execution_count": 30,
   "metadata": {},
   "outputs": [],
   "source": [
    "create_seed_file(points, 'entrance_seeds.txt')"
   ]
  }
 ],
 "metadata": {
  "kernelspec": {
   "display_name": "base",
   "language": "python",
   "name": "python3"
  },
  "language_info": {
   "codemirror_mode": {
    "name": "ipython",
    "version": 3
   },
   "file_extension": ".py",
   "mimetype": "text/x-python",
   "name": "python",
   "nbconvert_exporter": "python",
   "pygments_lexer": "ipython3",
   "version": "3.12.2"
  }
 },
 "nbformat": 4,
 "nbformat_minor": 2
}
