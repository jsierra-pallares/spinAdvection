{
 "cells": [
  {
   "cell_type": "markdown",
   "metadata": {},
   "source": [
    "# Fluid dynamic computations for MRI simulation in Koma MRI\n",
    "### Joaquín Anatol Hernández, PhD and José Sierra-Pallares, PhD\n",
    "### Energy and Fluid Mechanics Department - UVa"
   ]
  },
  {
   "cell_type": "code",
   "execution_count": 1,
   "metadata": {},
   "outputs": [],
   "source": [
    "import pyvista as pv\n",
    "import vtk\n",
    "import os\n",
    "import numpy as np\n",
    "import glob"
   ]
  },
  {
   "cell_type": "markdown",
   "metadata": {},
   "source": [
    "## Auxiliary functions"
   ]
  },
  {
   "cell_type": "code",
   "execution_count": 2,
   "metadata": {},
   "outputs": [],
   "source": [
    "def create_vti_file(filename, edge_size):\n",
    "  mesh = pv.read(filename)\n",
    "  points  = mesh.points\n",
    "\n",
    "  root, ext = os.path.splitext(filename)\n",
    "\n",
    "  image_box = [(np.max(points[:,0])-np.min(points[:,0])),\\\n",
    "          (np.max(points[:,1])-np.min(points[:,1])),\\\n",
    "          (np.max(points[:,2])-np.min(points[:,2]))]\n",
    "\n",
    "\n",
    "  orig_image =[np.min(points,axis=0)[0], np.min(points,axis=0)[1], np.min(points,axis=0)[2]]\n",
    "\n",
    "  image_size_x=edge_size\n",
    "  image_size_y=edge_size\n",
    "  image_size_z=edge_size\n",
    "\n",
    "  nx = int(image_box[0]/image_size_x)\n",
    "  ny = int(image_box[1]/image_size_y)\n",
    "  nz = int(image_box[2]/image_size_z)\n",
    "\n",
    "  res_x = image_box[0]/nx\n",
    "  res_y = image_box[1]/ny\n",
    "  res_z = image_box[2]/nz\n",
    "\n",
    "  dims=(nx, ny, nz)\n",
    "  spa=(res_x,res_y,res_z)\n",
    "  orig=(orig_image[0],orig_image[1],orig_image[2])\n",
    "  image = pv.ImageData(dimensions=dims,spacing=spa,origin=orig)\n",
    "\n",
    "  #mesh=mesh.cell_data_to_point_data()\n",
    "  probed_image=image.sample(mesh, mark_blank=True)\n",
    "  probed_image = probed_image.point_data_to_cell_data()\n",
    "\n",
    "  filename = root + '.vti'\n",
    "  \n",
    "  writer = vtk.vtkDataSetWriter()\n",
    "  writer.SetFileTypeToASCII()\n",
    "  writer.SetInputData(probed_image)\n",
    "  # Set the output file name with .vtk extension\n",
    "  writer.SetFileName(filename)\n",
    "  writer.SetFileVersion(42)\n",
    "  writer.SetWriteArrayMetaData(False)\n",
    "  writer.Write()\n",
    "\n",
    "  \n",
    "def create_seed_file(vtifile, seedfile):\n",
    "  probed_image = pv.read(vtifile)\n",
    "  centers = probed_image.cell_centers()\n",
    "  with open(seedfile, 'w') as file:\n",
    "    for i, point in enumerate(centers.points):\n",
    "      try:\n",
    "        if centers['vtkGhostType'][i] <1:\n",
    "          file.write(f'{point[0]} {point[1]} {point[2]}\\n')\n",
    "      except:\n",
    "        file.write(f'{point[0]} {point[1]} {point[2]}\\n')\n",
    "\n",
    "def create_sUbend_files(step_size, end_time, list_of_files, filename='suBend.vti'):\n",
    "  mesh = pv.read(filename)\n",
    "  RST = mesh['RST']\n",
    "  U = mesh['U']\n",
    "  time_vector = np.linspace(0, end_time, int(end_time/step_size))\n",
    "  file = open(list_of_files, 'w')\n",
    "\n",
    "  for j, time in enumerate(time_vector):\n",
    "    name = 'sUbend_'+str(j)+'.vtk'\n",
    "    matrix_M = np.empty((3, 3))\n",
    "    vt = np.empty_like(mesh['U'])\n",
    "    for i, chol_ in enumerate(RST):\n",
    "      matrix_M[0, 0] = chol_[0]\n",
    "      matrix_M[0, 1] = chol_[3]\n",
    "      matrix_M[0, 2] = chol_[5]\n",
    "      matrix_M[1, 0] = chol_[3]\n",
    "      matrix_M[1, 1] = chol_[1]\n",
    "      matrix_M[1, 2] = chol_[4]\n",
    "      matrix_M[2, 0] = chol_[5]\n",
    "      matrix_M[2, 1] = chol_[3]\n",
    "      matrix_M[2, 2] = chol_[2]\n",
    "\n",
    "      random_vector = np.random.rand(3)\n",
    "\n",
    "      vt[i] = np.dot(matrix_M, random_vector)*np.sqrt(1-np.exp(-2*step_size))\n",
    "      U[i] = U[i] + vt[i]\n",
    "      if i>1:\n",
    "        U[i] = U[i] + vt[i-1]\n",
    "\n",
    "    mesh.clear_data()\n",
    "    mesh['U'] = U\n",
    "    \n",
    "    # Save the VTK legacy file\n",
    "    writer = vtk.vtkDataSetWriter()\n",
    "    writer.SetFileTypeToASCII()\n",
    "    writer.SetInputData(mesh)\n",
    "    # Set the output file name with .vtk extension\n",
    "    writer.SetFileName(name)\n",
    "    writer.SetFileVersion(42)\n",
    "    writer.SetWriteArrayMetaData(False)\n",
    "    writer.Write()\n",
    "    print(time, name)\n",
    "\n",
    "    file.write(f'{name}\\t{time:.3f}\\n')\n",
    "\n",
    "  file.close()\n",
    "\n",
    "  return 0\n",
    "\n",
    "def create_single_sUbend_file(filename):\n",
    "  mesh = pv.read(filename)\n",
    "  # Save the VTK legacy file\n",
    "  writer = vtk.vtkDataSetWriter()\n",
    "  writer.SetFileTypeToASCII()\n",
    "  writer.SetInputData(mesh)\n",
    "  # Set the output file name with .vtk extension\n",
    "  name = filename.replace('.vtu', '.vtk')\n",
    "  writer.SetFileName(name)\n",
    "  writer.SetFileVersion(42)\n",
    "  writer.SetWriteArrayMetaData(False)\n",
    "  writer.Write()\n",
    "  return 0"
   ]
  },
  {
   "cell_type": "markdown",
   "metadata": {},
   "source": [
    "## Create single sUbend file"
   ]
  },
  {
   "cell_type": "code",
   "execution_count": 5,
   "metadata": {},
   "outputs": [
    {
     "data": {
      "text/plain": [
       "0"
      ]
     },
     "execution_count": 5,
     "metadata": {},
     "output_type": "execute_result"
    }
   ],
   "source": [
    "\n",
    "# create_single_sUbend_file('sUbend.vtu')"
   ]
  },
  {
   "cell_type": "code",
   "execution_count": 15,
   "metadata": {},
   "outputs": [],
   "source": [
    "# create_vti_file('FoV.vtu', 0.0005)\n",
    "# create_vti_file('clipped.vtu', 0.0005)"
   ]
  },
  {
   "cell_type": "code",
   "execution_count": null,
   "metadata": {
    "vscode": {
     "languageId": "julia"
    }
   },
   "outputs": [],
   "source": []
  },
  {
   "cell_type": "code",
   "execution_count": 14,
   "metadata": {},
   "outputs": [],
   "source": [
    "# create_vti_file('sUbend.vtu', 0.0005)"
   ]
  },
  {
   "cell_type": "code",
   "execution_count": 24,
   "metadata": {},
   "outputs": [],
   "source": [
    "# create_seed_file('FoV.vti', 'seeds.txt')\n",
    "# create_seed_file('clipped.vti', 'entrance_seeds.txt')"
   ]
  },
  {
   "cell_type": "code",
   "execution_count": 3,
   "metadata": {},
   "outputs": [
    {
     "data": {
      "text/plain": [
       "array([[ 0.00393563, -0.09035593, -0.01527433],\n",
       "       [ 0.00443641, -0.09035593, -0.01527433],\n",
       "       [ 0.00493718, -0.09035593, -0.01527433],\n",
       "       ...,\n",
       "       [ 0.08706461,  0.00326187,  0.01527344],\n",
       "       [ 0.08756539,  0.00326187,  0.01527344],\n",
       "       [ 0.08806617,  0.00326187,  0.01527344]])"
      ]
     },
     "execution_count": 3,
     "metadata": {},
     "output_type": "execute_result"
    }
   ],
   "source": [
    "data = np.genfromtxt('seeds.txt')\n",
    "data"
   ]
  },
  {
   "cell_type": "code",
   "execution_count": 4,
   "metadata": {},
   "outputs": [
    {
     "data": {
      "text/plain": [
       "(1657140, 3)"
      ]
     },
     "execution_count": 4,
     "metadata": {},
     "output_type": "execute_result"
    }
   ],
   "source": [
    "data.shape"
   ]
  },
  {
   "cell_type": "code",
   "execution_count": 13,
   "metadata": {},
   "outputs": [
    {
     "data": {
      "text/plain": [
       "array([[ 0.12462289, -0.04029294,  0.00125151],\n",
       "       [ 0.10208792,  0.00025809,  0.0017523 ],\n",
       "       [ 0.11911434, -0.0412942 , -0.00826336],\n",
       "       ...,\n",
       "       [ 0.00694029,  0.01527699,  0.00275386],\n",
       "       [ 0.12312056, -0.05230806,  0.00625934],\n",
       "       [ 0.122119  , -0.0863509 ,  0.00225308]])"
      ]
     },
     "execution_count": 13,
     "metadata": {},
     "output_type": "execute_result"
    }
   ],
   "source": [
    "sparse_data = data[np.random.choice(data.shape[0], 1000000, replace=True)]\n",
    "sparse_data"
   ]
  },
  {
   "cell_type": "code",
   "execution_count": 14,
   "metadata": {},
   "outputs": [],
   "source": [
    "np.savetxt('sparse_seeds.txt', sparse_data)"
   ]
  },
  {
   "cell_type": "code",
   "execution_count": null,
   "metadata": {},
   "outputs": [],
   "source": []
  }
 ],
 "metadata": {
  "kernelspec": {
   "display_name": "base",
   "language": "python",
   "name": "python3"
  },
  "language_info": {
   "codemirror_mode": {
    "name": "ipython",
    "version": 3
   },
   "file_extension": ".py",
   "mimetype": "text/x-python",
   "name": "python",
   "nbconvert_exporter": "python",
   "pygments_lexer": "ipython3",
   "version": "3.12.2"
  }
 },
 "nbformat": 4,
 "nbformat_minor": 2
}
